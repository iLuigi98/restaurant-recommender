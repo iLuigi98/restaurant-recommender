{
 "cells": [
  {
   "cell_type": "code",
   "execution_count": 3,
   "id": "ab07aabe",
   "metadata": {},
   "outputs": [],
   "source": [
    "import pandas as pd\n",
    "import numpy as np\n",
    "import matplotlib.pyplot as plt\n",
    "from wordcloud import WordCloud\n",
    "import seaborn as sns\n",
    "import plotly.express as px\n",
    "\n",
    "# Load data\n",
    "df = pd.read_csv(\"tennessee_all_cities.csv\")"
   ]
  },
  {
   "cell_type": "code",
   "execution_count": 4,
   "id": "03110b65",
   "metadata": {},
   "outputs": [
    {
     "data": {
      "text/plain": [
       "200"
      ]
     },
     "execution_count": 4,
     "metadata": {},
     "output_type": "execute_result"
    }
   ],
   "source": [
    "len(df[df.city == \"Nashville\"])"
   ]
  },
  {
   "cell_type": "code",
   "execution_count": 6,
   "id": "f4707410",
   "metadata": {
    "scrolled": false
   },
   "outputs": [
    {
     "data": {
      "text/html": [
       "<div>\n",
       "<style scoped>\n",
       "    .dataframe tbody tr th:only-of-type {\n",
       "        vertical-align: middle;\n",
       "    }\n",
       "\n",
       "    .dataframe tbody tr th {\n",
       "        vertical-align: top;\n",
       "    }\n",
       "\n",
       "    .dataframe thead th {\n",
       "        text-align: right;\n",
       "    }\n",
       "</style>\n",
       "<table border=\"1\" class=\"dataframe\">\n",
       "  <thead>\n",
       "    <tr style=\"text-align: right;\">\n",
       "      <th></th>\n",
       "      <th>name</th>\n",
       "      <th>rating</th>\n",
       "      <th>review_count</th>\n",
       "      <th>price</th>\n",
       "      <th>latitude</th>\n",
       "      <th>longitude</th>\n",
       "      <th>address</th>\n",
       "      <th>city</th>\n",
       "      <th>state</th>\n",
       "      <th>categories</th>\n",
       "    </tr>\n",
       "  </thead>\n",
       "  <tbody>\n",
       "    <tr>\n",
       "      <th>0</th>\n",
       "      <td>888</td>\n",
       "      <td>4.5</td>\n",
       "      <td>138</td>\n",
       "      <td>NaN</td>\n",
       "      <td>36.155822</td>\n",
       "      <td>-86.780532</td>\n",
       "      <td>800 Clark Pl, Nashville, TN 37203</td>\n",
       "      <td>Nashville</td>\n",
       "      <td>TN</td>\n",
       "      <td>Japanese, Sushi Bars, Music Venues</td>\n",
       "    </tr>\n",
       "    <tr>\n",
       "      <th>1</th>\n",
       "      <td>The Twelve Thirty Club</td>\n",
       "      <td>4.3</td>\n",
       "      <td>1215</td>\n",
       "      <td>NaN</td>\n",
       "      <td>36.160473</td>\n",
       "      <td>-86.779066</td>\n",
       "      <td>550 Broadway, Nashville, TN 37203</td>\n",
       "      <td>Nashville</td>\n",
       "      <td>TN</td>\n",
       "      <td>Cocktail Bars, American</td>\n",
       "    </tr>\n",
       "    <tr>\n",
       "      <th>2</th>\n",
       "      <td>The Stillery</td>\n",
       "      <td>4.4</td>\n",
       "      <td>3682</td>\n",
       "      <td>$$</td>\n",
       "      <td>36.162260</td>\n",
       "      <td>-86.775701</td>\n",
       "      <td>113 2nd Ave N, Nashville, TN 37201</td>\n",
       "      <td>Nashville</td>\n",
       "      <td>TN</td>\n",
       "      <td>New American, Bars</td>\n",
       "    </tr>\n",
       "    <tr>\n",
       "      <th>3</th>\n",
       "      <td>The Finch</td>\n",
       "      <td>4.6</td>\n",
       "      <td>316</td>\n",
       "      <td>NaN</td>\n",
       "      <td>36.156633</td>\n",
       "      <td>-86.783914</td>\n",
       "      <td>111 10th Ave S, Ste 310, Nashville, TN 37203</td>\n",
       "      <td>Nashville</td>\n",
       "      <td>TN</td>\n",
       "      <td>American</td>\n",
       "    </tr>\n",
       "    <tr>\n",
       "      <th>4</th>\n",
       "      <td>Postino 12 South</td>\n",
       "      <td>4.2</td>\n",
       "      <td>77</td>\n",
       "      <td>NaN</td>\n",
       "      <td>36.126617</td>\n",
       "      <td>-86.789483</td>\n",
       "      <td>2317 12th Ave S, Nashville, TN 37204</td>\n",
       "      <td>Nashville</td>\n",
       "      <td>TN</td>\n",
       "      <td>Wine Bars, Cocktail Bars, New American</td>\n",
       "    </tr>\n",
       "  </tbody>\n",
       "</table>\n",
       "</div>"
      ],
      "text/plain": [
       "                     name  rating  review_count price   latitude  longitude  \\\n",
       "0                     888     4.5           138   NaN  36.155822 -86.780532   \n",
       "1  The Twelve Thirty Club     4.3          1215   NaN  36.160473 -86.779066   \n",
       "2            The Stillery     4.4          3682    $$  36.162260 -86.775701   \n",
       "3               The Finch     4.6           316   NaN  36.156633 -86.783914   \n",
       "4        Postino 12 South     4.2            77   NaN  36.126617 -86.789483   \n",
       "\n",
       "                                        address       city state  \\\n",
       "0             800 Clark Pl, Nashville, TN 37203  Nashville    TN   \n",
       "1             550 Broadway, Nashville, TN 37203  Nashville    TN   \n",
       "2            113 2nd Ave N, Nashville, TN 37201  Nashville    TN   \n",
       "3  111 10th Ave S, Ste 310, Nashville, TN 37203  Nashville    TN   \n",
       "4          2317 12th Ave S, Nashville, TN 37204  Nashville    TN   \n",
       "\n",
       "                               categories  \n",
       "0      Japanese, Sushi Bars, Music Venues  \n",
       "1                 Cocktail Bars, American  \n",
       "2                      New American, Bars  \n",
       "3                                American  \n",
       "4  Wine Bars, Cocktail Bars, New American  "
      ]
     },
     "execution_count": 6,
     "metadata": {},
     "output_type": "execute_result"
    }
   ],
   "source": [
    "df.head()"
   ]
  },
  {
   "cell_type": "code",
   "execution_count": null,
   "id": "7f78c6dd",
   "metadata": {},
   "outputs": [],
   "source": []
  }
 ],
 "metadata": {
  "kernelspec": {
   "display_name": "Python 3 (ipykernel)",
   "language": "python",
   "name": "python3"
  },
  "language_info": {
   "codemirror_mode": {
    "name": "ipython",
    "version": 3
   },
   "file_extension": ".py",
   "mimetype": "text/x-python",
   "name": "python",
   "nbconvert_exporter": "python",
   "pygments_lexer": "ipython3",
   "version": "3.11.5"
  }
 },
 "nbformat": 4,
 "nbformat_minor": 5
}
